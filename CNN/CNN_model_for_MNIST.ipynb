{
  "nbformat": 4,
  "nbformat_minor": 0,
  "metadata": {
    "colab": {
      "name": "CNN_model_for_MNIST.ipynb",
      "version": "0.3.2",
      "views": {},
      "default_view": {},
      "provenance": [],
      "collapsed_sections": []
    },
    "kernelspec": {
      "name": "python3",
      "display_name": "Python 3"
    },
    "accelerator": "GPU"
  },
  "cells": [
    {
      "metadata": {
        "id": "rKtaxF1K0j6L",
        "colab_type": "code",
        "colab": {
          "autoexec": {
            "startup": false,
            "wait_interval": 0
          }
        }
      },
      "cell_type": "code",
      "source": [
        "import numpy as np\n",
        "import cv2\n",
        "from keras.utils import np_utils\n",
        "from keras.optimizers import SGD\n",
        "from keras.layers.core import Activation\n",
        "from sklearn.datasets import fetch_mldata\n",
        "from keras.datasets import mnist\n",
        "from keras.utils import to_categorical\n",
        "import matplotlib.pyplot as plt\n",
        "import keras\n",
        "from keras.models import Sequential,Input,Model\n",
        "from keras.layers import Dense, Dropout, Flatten\n",
        "from keras.layers import Conv2D, MaxPooling2D\n",
        "from sklearn.model_selection import train_test_split\n",
        "from sklearn.metrics import classification_report\n",
        "%matplotlib inline"
      ],
      "execution_count": 0,
      "outputs": []
    },
    {
      "metadata": {
        "id": "3e4tehAs4Uw6",
        "colab_type": "code",
        "colab": {
          "autoexec": {
            "startup": false,
            "wait_interval": 0
          },
          "base_uri": "https://localhost:8080/",
          "height": 34
        },
        "outputId": "9b4f5b1f-9352-4427-9048-6e6ad3bce749",
        "executionInfo": {
          "status": "ok",
          "timestamp": 1523471174542,
          "user_tz": -330,
          "elapsed": 1890,
          "user": {
            "displayName": "Sandeep Kumar",
            "photoUrl": "https://lh3.googleusercontent.com/a/default-user=s128",
            "userId": "107413912326143688370"
          }
        }
      },
      "cell_type": "code",
      "source": [
        "print('Loading MNIST Dataset...')\n",
        "dataset = fetch_mldata('MNIST Original')\n",
        "\n",
        "# Read the MNIST data as array of 784 pixels and convert to 28x28 image matrix \n",
        "mnist_data = dataset.data.reshape((dataset.data.shape[0], 28, 28))\n",
        "mnist_data = mnist_data[:, np.newaxis, :, :]\n",
        "\n",
        "# Split data into testing and training sets.\n",
        "train_img, test_img, train_labels, test_labels = train_test_split(mnist_data/255.0, dataset.target.astype(\"int\"), test_size=0.1)\n",
        "\n",
        "# Each image rows and columns are of 28x28 matrix type.\n",
        "img_rows, img_columns = 28, 28\n",
        "\n",
        "# Transform training and testing data to 10 classes in range [0,classes] ; num. of classes = 0 to 9 = 10 classes\n",
        "total_classes = 10\t\t\t# 0 to 9 labels\n",
        "train_labels = np_utils.to_categorical(train_labels, 10)\n",
        "test_labels = np_utils.to_categorical(test_labels, 10)\n",
        "\n",
        "#train_img, val_img, train_labels, val_labels = train_test_split(train_img, dataset.target.astype(\"int\"), test_size=0.1)\n",
        "train_X,valid_X,train_label,valid_label = train_test_split(train_img, train_labels, test_size=0.2, random_state=13)"
      ],
      "execution_count": 40,
      "outputs": [
        {
          "output_type": "stream",
          "text": [
            "Loading MNIST Dataset...\n"
          ],
          "name": "stdout"
        }
      ]
    },
    {
      "metadata": {
        "id": "Ik_Egcta7ReV",
        "colab_type": "code",
        "colab": {
          "autoexec": {
            "startup": false,
            "wait_interval": 0
          }
        }
      },
      "cell_type": "code",
      "source": [
        "num_classes = 10"
      ],
      "execution_count": 0,
      "outputs": []
    },
    {
      "metadata": {
        "id": "RY4eJrvb4c9B",
        "colab_type": "code",
        "colab": {
          "autoexec": {
            "startup": false,
            "wait_interval": 0
          }
        }
      },
      "cell_type": "code",
      "source": [
        "model = Sequential()\n",
        "model.add(Conv2D(32, kernel_size=(3, 3),activation='relu',padding='same',input_shape=(1,28,28)))\n",
        "model.add(MaxPooling2D((2, 2),padding='same'))\n",
        "model.add(Dropout(0.20))\n",
        "model.add(Conv2D(64, (3, 3), activation='relu',padding='same'))\n",
        "model.add(MaxPooling2D(pool_size=(2, 2),padding='same'))\n",
        "model.add(Dropout(0.25))\n",
        "model.add(Conv2D(128, (3, 3), activation='relu',padding='same'))         \n",
        "model.add(MaxPooling2D(pool_size=(2, 2),padding='same'))\n",
        "model.add(Dropout(0.4))\n",
        "model.add(Flatten())\n",
        "model.add(Dense(128, activation='relu'))     \n",
        "model.add(Dropout(0.3))\n",
        "model.add(Dense(num_classes, activation='softmax'))\n"
      ],
      "execution_count": 0,
      "outputs": []
    },
    {
      "metadata": {
        "id": "xkOIoo3g49gN",
        "colab_type": "code",
        "colab": {
          "autoexec": {
            "startup": false,
            "wait_interval": 0
          },
          "base_uri": "https://localhost:8080/",
          "height": 578
        },
        "outputId": "b421fee7-1f69-49b0-9cbf-c47cf5f3559b",
        "executionInfo": {
          "status": "ok",
          "timestamp": 1523470671422,
          "user_tz": -330,
          "elapsed": 1031,
          "user": {
            "displayName": "Sandeep Kumar",
            "photoUrl": "https://lh3.googleusercontent.com/a/default-user=s128",
            "userId": "107413912326143688370"
          }
        }
      },
      "cell_type": "code",
      "source": [
        "model.summary()"
      ],
      "execution_count": 32,
      "outputs": [
        {
          "output_type": "stream",
          "text": [
            "_________________________________________________________________\n",
            "Layer (type)                 Output Shape              Param #   \n",
            "=================================================================\n",
            "conv2d_7 (Conv2D)            (None, 28, 28, 32)        320       \n",
            "_________________________________________________________________\n",
            "max_pooling2d_7 (MaxPooling2 (None, 14, 14, 32)        0         \n",
            "_________________________________________________________________\n",
            "dropout_9 (Dropout)          (None, 14, 14, 32)        0         \n",
            "_________________________________________________________________\n",
            "conv2d_8 (Conv2D)            (None, 14, 14, 64)        18496     \n",
            "_________________________________________________________________\n",
            "max_pooling2d_8 (MaxPooling2 (None, 7, 7, 64)          0         \n",
            "_________________________________________________________________\n",
            "dropout_10 (Dropout)         (None, 7, 7, 64)          0         \n",
            "_________________________________________________________________\n",
            "conv2d_9 (Conv2D)            (None, 7, 7, 128)         73856     \n",
            "_________________________________________________________________\n",
            "max_pooling2d_9 (MaxPooling2 (None, 4, 4, 128)         0         \n",
            "_________________________________________________________________\n",
            "dropout_11 (Dropout)         (None, 4, 4, 128)         0         \n",
            "_________________________________________________________________\n",
            "flatten_3 (Flatten)          (None, 2048)              0         \n",
            "_________________________________________________________________\n",
            "dense_5 (Dense)              (None, 128)               262272    \n",
            "_________________________________________________________________\n",
            "dropout_12 (Dropout)         (None, 128)               0         \n",
            "_________________________________________________________________\n",
            "dense_6 (Dense)              (None, 10)                1290      \n",
            "=================================================================\n",
            "Total params: 356,234\n",
            "Trainable params: 356,234\n",
            "Non-trainable params: 0\n",
            "_________________________________________________________________\n"
          ],
          "name": "stdout"
        }
      ]
    },
    {
      "metadata": {
        "id": "obMnHH4Q5QVl",
        "colab_type": "code",
        "colab": {
          "autoexec": {
            "startup": false,
            "wait_interval": 0
          }
        }
      },
      "cell_type": "code",
      "source": [
        "model.compile(loss=keras.losses.categorical_crossentropy, optimizer=keras.optimizers.Adam(),metrics=['accuracy'])"
      ],
      "execution_count": 0,
      "outputs": []
    },
    {
      "metadata": {
        "id": "htnX1vXs5a9l",
        "colab_type": "code",
        "colab": {
          "autoexec": {
            "startup": false,
            "wait_interval": 0
          },
          "base_uri": "https://localhost:8080/",
          "height": 734
        },
        "outputId": "02250829-f625-46b9-a95d-4905e51f6dbd",
        "executionInfo": {
          "status": "ok",
          "timestamp": 1523472309873,
          "user_tz": -330,
          "elapsed": 68565,
          "user": {
            "displayName": "Sandeep Kumar",
            "photoUrl": "https://lh3.googleusercontent.com/a/default-user=s128",
            "userId": "107413912326143688370"
          }
        }
      },
      "cell_type": "code",
      "source": [
        "train_model = model.fit(train_X, train_label, batch_size=256,epochs=20,verbose=1, validation_data=(valid_X, valid_label))"
      ],
      "execution_count": 45,
      "outputs": [
        {
          "output_type": "stream",
          "text": [
            "Train on 50400 samples, validate on 12600 samples\n",
            "Epoch 1/20\n",
            "50400/50400 [==============================] - 4s 73us/step - loss: 0.8104 - acc: 0.7278 - val_loss: 0.1856 - val_acc: 0.9461\n",
            "Epoch 2/20\n",
            "50400/50400 [==============================] - 3s 65us/step - loss: 0.2612 - acc: 0.9197 - val_loss: 0.1230 - val_acc: 0.9618\n",
            "Epoch 3/20\n",
            "50400/50400 [==============================] - 3s 63us/step - loss: 0.1931 - acc: 0.9411 - val_loss: 0.0927 - val_acc: 0.9717\n",
            "Epoch 4/20\n",
            "50400/50400 [==============================] - 3s 65us/step - loss: 0.1604 - acc: 0.9506 - val_loss: 0.0799 - val_acc: 0.9751\n",
            "Epoch 5/20\n",
            "38400/50400 [=====================>........] - ETA: 0s - loss: 0.1400 - acc: 0.9564"
          ],
          "name": "stdout"
        },
        {
          "output_type": "stream",
          "text": [
            "50400/50400 [==============================] - 3s 65us/step - loss: 0.1393 - acc: 0.9570 - val_loss: 0.0729 - val_acc: 0.9762\n",
            "Epoch 6/20\n",
            "50400/50400 [==============================] - 3s 65us/step - loss: 0.1254 - acc: 0.9617 - val_loss: 0.0653 - val_acc: 0.9787\n",
            "Epoch 7/20\n",
            "50400/50400 [==============================] - 3s 66us/step - loss: 0.1156 - acc: 0.9655 - val_loss: 0.0616 - val_acc: 0.9802\n",
            "Epoch 8/20\n",
            "50400/50400 [==============================] - 3s 67us/step - loss: 0.1047 - acc: 0.9686 - val_loss: 0.0572 - val_acc: 0.9817\n",
            "Epoch 9/20\n",
            "50400/50400 [==============================] - 3s 66us/step - loss: 0.0989 - acc: 0.9694 - val_loss: 0.0498 - val_acc: 0.9833\n",
            "Epoch 10/20\n",
            " 9984/50400 [====>.........................] - ETA: 2s - loss: 0.0970 - acc: 0.9677"
          ],
          "name": "stdout"
        },
        {
          "output_type": "stream",
          "text": [
            "50400/50400 [==============================] - 3s 67us/step - loss: 0.0911 - acc: 0.9722 - val_loss: 0.0478 - val_acc: 0.9838\n",
            "Epoch 11/20\n",
            "50400/50400 [==============================] - 3s 67us/step - loss: 0.0886 - acc: 0.9728 - val_loss: 0.0475 - val_acc: 0.9848\n",
            "Epoch 12/20\n",
            "50400/50400 [==============================] - 3s 67us/step - loss: 0.0857 - acc: 0.9747 - val_loss: 0.0464 - val_acc: 0.9847\n",
            "Epoch 13/20\n",
            "50400/50400 [==============================] - 3s 67us/step - loss: 0.0820 - acc: 0.9738 - val_loss: 0.0432 - val_acc: 0.9852\n",
            "Epoch 14/20\n",
            "50400/50400 [==============================] - 3s 67us/step - loss: 0.0786 - acc: 0.9765 - val_loss: 0.0428 - val_acc: 0.9853\n",
            "Epoch 15/20\n",
            " 3328/50400 [>.............................] - ETA: 2s - loss: 0.0802 - acc: 0.9769"
          ],
          "name": "stdout"
        },
        {
          "output_type": "stream",
          "text": [
            "50400/50400 [==============================] - 3s 66us/step - loss: 0.0756 - acc: 0.9771 - val_loss: 0.0418 - val_acc: 0.9865\n",
            "Epoch 16/20\n",
            "50400/50400 [==============================] - 3s 67us/step - loss: 0.0741 - acc: 0.9773 - val_loss: 0.0394 - val_acc: 0.9864\n",
            "Epoch 17/20\n",
            "50400/50400 [==============================] - 3s 67us/step - loss: 0.0721 - acc: 0.9778 - val_loss: 0.0368 - val_acc: 0.9890\n",
            "Epoch 18/20\n",
            "50400/50400 [==============================] - 3s 67us/step - loss: 0.0675 - acc: 0.9785 - val_loss: 0.0371 - val_acc: 0.9875\n",
            "Epoch 19/20\n",
            "50400/50400 [==============================] - 3s 67us/step - loss: 0.0656 - acc: 0.9797 - val_loss: 0.0368 - val_acc: 0.9879\n",
            "Epoch 20/20\n",
            " 4096/50400 [=>............................] - ETA: 2s - loss: 0.0721 - acc: 0.9775"
          ],
          "name": "stdout"
        },
        {
          "output_type": "stream",
          "text": [
            "50400/50400 [==============================] - 3s 67us/step - loss: 0.0660 - acc: 0.9796 - val_loss: 0.0364 - val_acc: 0.9880\n"
          ],
          "name": "stdout"
        }
      ]
    },
    {
      "metadata": {
        "id": "OOO-YYduBwqa",
        "colab_type": "code",
        "colab": {
          "autoexec": {
            "startup": false,
            "wait_interval": 0
          }
        }
      },
      "cell_type": "code",
      "source": [
        "model.save(\"Save_trained_model.h5py\")"
      ],
      "execution_count": 0,
      "outputs": []
    },
    {
      "metadata": {
        "id": "czJ_WbPyB8Cb",
        "colab_type": "code",
        "colab": {
          "autoexec": {
            "startup": false,
            "wait_interval": 0
          },
          "base_uri": "https://localhost:8080/",
          "height": 34
        },
        "outputId": "794f882b-10a1-4381-9044-9591e493e19d",
        "executionInfo": {
          "status": "ok",
          "timestamp": 1523472452233,
          "user_tz": -330,
          "elapsed": 3508,
          "user": {
            "displayName": "Sandeep Kumar",
            "photoUrl": "https://lh3.googleusercontent.com/a/default-user=s128",
            "userId": "107413912326143688370"
          }
        }
      },
      "cell_type": "code",
      "source": [
        "test_eval = model.evaluate(test_img, test_labels, verbose=1)"
      ],
      "execution_count": 48,
      "outputs": [
        {
          "output_type": "stream",
          "text": [
            "7000/7000 [==============================] - 1s 96us/step\n"
          ],
          "name": "stdout"
        }
      ]
    },
    {
      "metadata": {
        "id": "mGb44ydTCQSa",
        "colab_type": "code",
        "colab": {
          "autoexec": {
            "startup": false,
            "wait_interval": 0
          },
          "base_uri": "https://localhost:8080/",
          "height": 51
        },
        "outputId": "cd424706-a6c9-4b18-cda9-920246af8daa",
        "executionInfo": {
          "status": "ok",
          "timestamp": 1523472471113,
          "user_tz": -330,
          "elapsed": 1025,
          "user": {
            "displayName": "Sandeep Kumar",
            "photoUrl": "https://lh3.googleusercontent.com/a/default-user=s128",
            "userId": "107413912326143688370"
          }
        }
      },
      "cell_type": "code",
      "source": [
        "print('Test loss:', test_eval[0])\n",
        "print('Test accuracy:', test_eval[1])\n"
      ],
      "execution_count": 49,
      "outputs": [
        {
          "output_type": "stream",
          "text": [
            "Test loss: 0.038550734930139566\n",
            "Test accuracy: 0.9891428571428571\n"
          ],
          "name": "stdout"
        }
      ]
    },
    {
      "metadata": {
        "id": "pgHVegehCWiO",
        "colab_type": "code",
        "colab": {
          "autoexec": {
            "startup": false,
            "wait_interval": 0
          },
          "base_uri": "https://localhost:8080/",
          "height": 543
        },
        "outputId": "bd7df387-ac88-483b-ff92-f1a5cdd2d5bd",
        "executionInfo": {
          "status": "ok",
          "timestamp": 1523472657329,
          "user_tz": -330,
          "elapsed": 1264,
          "user": {
            "displayName": "Sandeep Kumar",
            "photoUrl": "https://lh3.googleusercontent.com/a/default-user=s128",
            "userId": "107413912326143688370"
          }
        }
      },
      "cell_type": "code",
      "source": [
        "accuracy = train_model.history['acc']\n",
        "validity_accuracy = train_model.history['val_acc']\n",
        "loss = train_model.history['loss']\n",
        "validity_loss = train_model.history['val_loss']\n",
        "epochs = range(len(accuracy))\n",
        "plt.plot(epochs, accuracy, 'bo', label='Training accuracy')\n",
        "plt.plot(epochs, validity_accuracy, 'b', label='Validation accuracy')\n",
        "plt.title('Training and validation accuracy')\n",
        "plt.legend()\n",
        "plt.figure()\n",
        "plt.plot(epochs, loss, 'bo', label='Training loss')\n",
        "plt.plot(epochs, validity_loss, 'b', label='Validation loss')\n",
        "plt.title('Training and validation losses')\n",
        "plt.legend()\n",
        "plt.show()\n",
        "\n"
      ],
      "execution_count": 51,
      "outputs": [
        {
          "output_type": "display_data",
          "data": {
            "image/png": "[encoded data removed]",
            "text/plain": [
              "<matplotlib.figure.Figure at 0x7f0920950ac8>"
            ]
          },
          "metadata": {
            "tags": []
          }
        },
        {
          "output_type": "display_data",
          "data": {
            "image/png": "[encoded data removed]",
            "text/plain": [
              "<matplotlib.figure.Figure at 0x7f0920988a58>"
            ]
          },
          "metadata": {
            "tags": []
          }
        }
      ]
    },
    {
      "metadata": {
        "id": "lJ6T2Ky0DF8o",
        "colab_type": "code",
        "colab": {
          "autoexec": {
            "startup": false,
            "wait_interval": 0
          },
          "base_uri": "https://localhost:8080/",
          "height": 34
        },
        "outputId": "af598a1b-dd69-4954-bc49-5160f4277482",
        "executionInfo": {
          "status": "ok",
          "timestamp": 1523473387169,
          "user_tz": -330,
          "elapsed": 1449,
          "user": {
            "displayName": "Sandeep Kumar",
            "photoUrl": "https://lh3.googleusercontent.com/a/default-user=s128",
            "userId": "107413912326143688370"
          }
        }
      },
      "cell_type": "code",
      "source": [
        "predicted_classes = model.predict(test_img)\n",
        "predicted_classes = np.argmax(np.round(predicted_classes),axis=1)\n",
        "predicted_classes.shape, test_labels.shape\n"
      ],
      "execution_count": 64,
      "outputs": [
        {
          "output_type": "execute_result",
          "data": {
            "text/plain": [
              "((7000,), (7000, 10))"
            ]
          },
          "metadata": {
            "tags": []
          },
          "execution_count": 64
        }
      ]
    }
  ]
}
